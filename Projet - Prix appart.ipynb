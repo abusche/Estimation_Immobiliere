{
 "cells": [
  {
   "cell_type": "markdown",
   "id": "18400c4b-c677-450d-babc-318e4f015212",
   "metadata": {},
   "source": [
    "# Code propre"
   ]
  },
  {
   "cell_type": "markdown",
   "id": "01035bd6-7339-443b-b4c4-64c6d24a2663",
   "metadata": {},
   "source": [
    "## I) Fonctions de bases"
   ]
  },
  {
   "cell_type": "code",
   "execution_count": 1,
   "id": "033fe0e1-119d-4ca1-af06-c7f9066d46ca",
   "metadata": {},
   "outputs": [],
   "source": [
    "# Chargement des packages que nous allons utiliser dans ce script\n",
    "import time \n",
    "import random\n",
    "import re\n",
    "import seaborn as sns\n",
    "import pandas as pd\n",
    "import numpy as np\n",
    "import requests\n",
    "import matplotlib.pyplot as plt\n",
    "from bs4 import BeautifulSoup\n",
    "from sklearn.neighbors import KNeighborsClassifier\n",
    "from sklearn.model_selection import train_test_split\n",
    "from scipy.spatial import cKDTree\n",
    "from scipy.stats import norm\n",
    "\n",
    "# Fonction qui permet de récuperer le code html d'un page internet\n",
    "# ATTENTION : IL FAUT MODIFIER L'USER AGENT !!!!!!\n",
    "\n",
    "def get_page(urlpage):\n",
    "    user_agent = {'User-Agent':'Mozilla/5.0 (Windows NT 10.0; Win64; x64; rv:122.0) Gecko/20100101 Firefox/122.0'}\n",
    "    # Timer qui retard l'envoi de requête vers le site pour pas se faire ban\n",
    "    time.sleep(0.2 + np.random.rand()/10)\n",
    "    res = requests.get(urlpage, headers = user_agent)\n",
    "    soup = BeautifulSoup(res.text, 'html.parser')\n",
    "    return soup\n",
    "\n",
    "def get_pagelink(urlpage):\n",
    "    # Cette fonction sert à rechercher les différentes pages du site pour obtenir toutes les annonces du site lefigaro\n",
    "    # L'idée ici est de regarder si la page à un bouton \"suivant\" pour aller à la prochaine page\n",
    "    # Quand on a fait toutes les pages qui sont disponibles, link = \"VIDE\" donc on arrète car il n'y a pas de suivant\n",
    "    # Et on stocke tous les liens dans \"page\" et dans ces pages on va récupérer les liens des annonces avec la fonction get_link()\n",
    "    website = \"https://immobilier.lefigaro.fr\" \n",
    "    link = [] # On initialise un vecteur vide où on va stocker les liens des différences pages\n",
    "    page = [urlpage] # La première page est celle qu'on a donner dans la fonction get_link()\n",
    "    while link != \"VIDE\": # Tant que link n'est pas vide, c'est-à-dire tant qu'on est pas à la dernière page\n",
    "        soup = get_page(urlpage) \n",
    "        text = soup.find_all(\"a\", \"router-link-active router-link-exact-active btn-pagination\") # Récupération du html\n",
    "        for i in range(len(text)): # Il y a 2 élements dans \"text\" : \"Précédent\" et \"Suivant\".\n",
    "            if text[i].text == \"Suivant\": # On cherche l'element \"Suivant\"\n",
    "                link = re.findall('href=\"(.*?)\" ', str(text[i]))[0] # Et on cherche le lien\n",
    "                urlpage = website + link # On merge le nom du site et la partie du lien spécifique à la page pour avoir le lien complet\n",
    "                page.append(urlpage) # On ajoute le lien au vecteur \"page\" pour le stocker\n",
    "                break\n",
    "            else:\n",
    "                link = \"VIDE\" # Si il n'y a de \"Suivant\", c'est que c'est la dernière page donc on arrète.\n",
    "    return page\n",
    "\n",
    "# Fonction qui nous permet de récupérer le lien des annonces des logements\n",
    "# Les sites disponibles sont \"orpi\", \"nexity\" et \"lefigaro\"\n",
    "def get_link(site):\n",
    "    # On récupère les caractèristiques pour le site 'orpi'\n",
    "    if (site=='orpi')==True:\n",
    "        urlpage = 'https://www.orpi.com/location-immobiliere-strasbourg/louer-appartement/' # url\n",
    "        a = \"a\" # la balise\n",
    "        b = 'u-link-unstyled c-overlay__link' # la classe\n",
    "        website = \"https://www.orpi.com\" # le lien du site web\n",
    "        reg = 'href=\"(.*?)\">\\n<span' # la regular expression qui encadre notre lien\n",
    "    # On récupère les caractéristiques pour le site 'nexity'\n",
    "    if (site=='nexity')==True:\n",
    "        urlpage = 'https://www.nexity.fr/annonces-immobilieres/location/appartement/tout/strasbourg+67' # url\n",
    "        a = \"div\" # la balise\n",
    "        b = 'product-card-content flex flex-column align-items-start' # la classe\n",
    "        website = \"https://www.nexity.fr\" # le lien du site web\n",
    "        reg = 'href=\"(.*?)\" target' # la regular expression qui encadre notre lien\n",
    "    \n",
    "    # On récupère les caractèristiques pour le site 'lefigaro'\n",
    "    if (site=='lefigaro')==True:\n",
    "        urlpage = 'https://immobilier.lefigaro.fr/annonces/immobilier-location-appartement-strasbourg+67000.html' # url\n",
    "        a = \"a\" # la balise\n",
    "        b = 'content__link' # la classe\n",
    "        website = \"https://immobilier.lefigaro.fr\" # le lien du site web\n",
    "        reg = 'href=\"([^\"]*)\"' # la regular expression qui encadre notre lien\n",
    "        \n",
    "        # Comme il y a plusieurs pages sur le site \"lefigaro\", il faut prendre le lien des annonces pour toutes les pages\n",
    "        page_link = get_pagelink(urlpage) # On récupère les liens des différentes pages de lefigaro\n",
    "        links = [] # On initialise le vecteur où on va stocker tous les liens des annonces\n",
    "\n",
    "        for i in page_link:\n",
    "            soup = get_page(i)\n",
    "            annonces = soup.find_all(a, class_= b) # On récupère le html de toutes les annonces sur cette page\n",
    "            for i in range(len(annonces)):\n",
    "                text = str(annonces[i]) # On met chaque annonce en chaine de caractère\n",
    "                link = re.findall(reg, text)[0] # On cherche la regular expression qu'on a définit plus haut\n",
    "                path = website + link # On regroupe le lien du site et le lien de l'annonce pour avoir le lien complet\n",
    "                links.append(path) # On l'ajoute à notre vecteur \"links\"\n",
    "    \n",
    "    # Pour ces deux sites, pas besoin car il n'y a qu'une page\n",
    "    if (site=='nexity' or site=='orpi')==True:\n",
    "        # On charge la page d'acceuil ou toutes les annonces sont énumérées\n",
    "        soup = get_page(urlpage) \n",
    "        # On recupère les infos dans le html\n",
    "        annonces = soup.find_all(a, class_= b)\n",
    "        # On initialise un vecteur vide pour stocker les liens des annonces\n",
    "        links = []\n",
    "\n",
    "        for i in range(len(annonces)):\n",
    "            text = str(annonces[i]) #On met chaque annonce en chaine de caractère\n",
    "            link = re.findall(reg, text)[0] # On cherche la regular expression qu'on a définit plus haut\n",
    "            path = website + link # On regroupe le nom du site et le nom de l'annonce\n",
    "            links.append(path) # On l'ajoute à notre vecteur \"links\"\n",
    "        \n",
    "    return links"
   ]
  },
  {
   "cell_type": "markdown",
   "id": "93731cb0-a2f6-447b-9c51-c497c0f4a8b2",
   "metadata": {
    "tags": []
   },
   "source": [
    "## II) ORPI"
   ]
  },
  {
   "cell_type": "code",
   "execution_count": 11,
   "id": "2d3a04ed-fdd6-4a1b-a4f2-09d547c1c322",
   "metadata": {},
   "outputs": [],
   "source": [
    "# a) Type : appartement ou maison\n",
    "def type_orpi(soup):\n",
    "    text = soup.find_all(\"span\", class_='u-block@sm u-block@md-plus')[0].text\n",
    "    if text.find(\"Appartement\") != -1:\n",
    "        typ = \"Appartement\"\n",
    "    elif text.find(\"Maison\") != -1:\n",
    "        typ = \"Maison\"\n",
    "    return [typ]\n",
    "\n",
    "# b) Localisation : Ville et quartier\n",
    "def localisation_orpi(soup):\n",
    "    ville = soup.find(\"span\", class_='u-h3 u-ml-xs u-text-normal').text\n",
    "    quartiers = [\"meinau\", \"neustadt\", 'poteries', \"esplanade\", \"petite france\", \"cronenbourg\", \"koenigshoffen\", \"halles\", \"neudorf\", \"robertsau\", \"gare\", \"musau\", \"orangerie\", \"krutenau\", \"forêt noire\", 'centre-ville', \"port du rhin\", \"hautepierre\", \"contades\"]\n",
    "    text = soup.find_all(\"h2\", class_='u-h3')\n",
    "    if ville == \"Strasbourg\":\n",
    "        for i in range(len(text)):\n",
    "            element = text[i].text\n",
    "            if \"Quartier\" in element:\n",
    "                localisation = re.findall(r'Quartier (.*?) à', element)\n",
    "                for j in range(len(quartiers)):\n",
    "                    if localisation[0].lower().find(quartiers[j]) != -1:\n",
    "                        quartier = quartiers[j].capitalize()\n",
    "    else:\n",
    "        quartier = ville\n",
    "    return [ville, quartier]\n",
    "\n",
    "# c) Loyer, charges et honoraires\n",
    "def price_orpi(soup): \n",
    "    text = soup.find(\"ul\", class_='u-list-unstyled u-text-xs u-mt-xs u-color-text-grey').find_all('li')\n",
    "    honoraires = float('nan')\n",
    "    for i in range(len(text)):\n",
    "        element = text[i].text\n",
    "        if \"Loyer\" in element:\n",
    "            loyer = float(''.join(re.findall(r'\\d', element)))\n",
    "        if \"Provisions\" in element:\n",
    "            charges = float(''.join(re.findall(r'\\d', element)))\n",
    "        if \"Honoraire\" in element:\n",
    "            honoraires = float(''.join(re.findall(r'\\d', element)))\n",
    "    return [loyer, charges, honoraires]\n",
    "\n",
    "# d) Pièces et surface\n",
    "def feature_orpi(soup):\n",
    "    text = soup.find_all(class_='u-flex u-flex-cross-center')\n",
    "    piece = float('nan')\n",
    "    surface = float('nan')\n",
    "    for i in range(len(text)):\n",
    "        if \"pièce\" in text[i].find(\"span\").text:\n",
    "            piece = float(re.findall(r'\\d+', text[i].find(\"span\").text)[0])\n",
    "        if \"Surface\" in text[i].find(\"span\").text:\n",
    "            surface = float(re.findall(r'\\d+', text[i].find(\"span\").text)[0])\n",
    "    if piece == 'nan' or surface == 'nan':\n",
    "        text = soup.find_all(class_='u-block@sm u-block@md-plus')[1].text.split()\n",
    "        for i in range(len(text)):\n",
    "            if piece == 'nan' and \"pièce\" in text[i]:\n",
    "                piece = float(text[i-1])\n",
    "            if surface == 'nan' and \"m2\" in text[i]:\n",
    "                surface = float(text[i-1])\n",
    "    return [piece, surface]\n",
    "\n",
    "# e) Caractéristiques\n",
    "def options_orpi(soup):\n",
    "    variables = [\"meublé\", \"ascenseur\", \"balcon\", \"terrasse\", \"cave\", \"garage\", \"terrain\"]\n",
    "    text = soup.find_all(class_='u-flex u-flex-cross-center')\n",
    "    caracteristiques = list(np.zeros(7, dtype=float))\n",
    "    for i in range(len(text)-1):\n",
    "        for j in range(len(variables)):\n",
    "            if variables[j] in text[i].find(\"span\").text.lower():\n",
    "                caracteristiques[j] = float(1)\n",
    "    return caracteristiques\n",
    "\n",
    "# Fonction qui nous donne toutes les caractéristiques de l'annonce orpi à l'aide des fonction précédente \n",
    "def get_orpi(urlpage):\n",
    "    user_agent = {'User-Agent':'Mozilla/5.0 (Windows NT 10.0; Win64; x64; rv:122.0) Gecko/20100101 Firefox/122.0'}\n",
    "    soup = get_page(urlpage)\n",
    "    link = [urlpage]\n",
    "    appart = type_orpi(soup) + localisation_orpi(soup) + price_orpi(soup) + feature_orpi(soup) + options_orpi(soup) + link\n",
    "    return appart"
   ]
  },
  {
   "cell_type": "markdown",
   "id": "69600f94-c20f-4018-a773-5a109a036ef9",
   "metadata": {
    "tags": []
   },
   "source": [
    "## III) NEXITY"
   ]
  },
  {
   "cell_type": "code",
   "execution_count": 12,
   "id": "ecb93cd7-abaa-4fd5-8077-aeeb9b9a0ce2",
   "metadata": {},
   "outputs": [],
   "source": [
    "# a) Localisation : Ville et quartier\n",
    "def localisation_nexity(soup):\n",
    "    ville = [soup.find(\"span\", class_='city').text]\n",
    "    if ville == [\"Strasbourg\"]:\n",
    "        quartiers = [\"meinau\", \"neustadt\", 'poteries', \"esplanade\", \"petite france\", \"cronenbourg\", \"koenigshoffen\", \"halles\", \"neudorf\", \"robertsau\", \"gare\", \"musau\", \"orangerie\", \"krutenau\", \"forêt noire\", 'centre-ville', \"port du rhin\", \"hautepierre\", \"contades\"]\n",
    "        text = soup.find(\"div\", class_='description text_body_1 mt-2').text.lower().split()\n",
    "        quartier = [\"nan\"]\n",
    "        for i in range(len(quartiers)):\n",
    "            for j in range(len(text)):\n",
    "                if quartiers[i] in text[j]:\n",
    "                    quartier = [quartiers[i].capitalize()]\n",
    "                    break\n",
    "    else:\n",
    "        quartier = ville\n",
    "    return ville + quartier\n",
    "\n",
    "# b) Honoraires\n",
    "def honoraires_nexity(soup):\n",
    "    text = soup.find(\"div\", class_=\"block-characteristiques--bareme\")\n",
    "    text = text.text\n",
    "    text = re.sub(r'\\s+', ' ', text)\n",
    "    hono1 = float(re.findall(r\"Honoraires d'organisation de la visite.*?(\\d+\\.\\d+)\", text)[0])\n",
    "    hono2 = float(re.findall(r\"Honoraires de réalisation d'état des lieux.*?(\\d+)\", text)[0])\n",
    "    honoraires = [hono1 + hono2]\n",
    "    return honoraires\n",
    "                               \n",
    "# c) Meublé\n",
    "def meuble_nexity(soup):\n",
    "    text = soup.find_all(\"div\", class_='flap flap--not-new')\n",
    "    if (text == [])==True:\n",
    "        meuble = [float(0)]\n",
    "    else:\n",
    "        text = text[0].text\n",
    "        if str(text)=='location meublée':\n",
    "            meuble = [float(1)]\n",
    "        else:\n",
    "            meuble = [float(0)]\n",
    "    return meuble            \n",
    "\n",
    "# d) caractéristiques : \"type\", \"loyer\", \"charges /\", \"pièce(s)\", \"surface\", \"ascenseur\", \"balcon\", \"terrasse\", \"cave\", \"parking\" et \"terrain\"\n",
    "def options_nexity(soup):  \n",
    "    variables = [\"type\", \"loyer\", \"charges /\", \"pièce(s)\", \"surface\", \"ascenseur\", \"balcon\", \"terrasse\", \"cave\", \"parking\", \"terrain\"]\n",
    "    caracteristiques = list(np.zeros(len(variables), dtype=float))\n",
    "    text = soup.find_all(\"div\", class_='d-flex align-items-center')\n",
    "    for i in range(len(text)):\n",
    "        element = text[i].text.lower()\n",
    "        for j in range(len(variables)):\n",
    "            if variables[j] in element:\n",
    "                caracteristiques[j] = element.split()[len(element.split())-1].capitalize()\n",
    "                break\n",
    "    caracteristiques[4] = caracteristiques[4].replace('m²', '')\n",
    "    for i in [1,2,3,4]:\n",
    "        caracteristiques[i] = float(caracteristiques[i])\n",
    "    for j in [5,6,7,8,9,10]:\n",
    "        if caracteristiques[j] == \"Non\":\n",
    "            caracteristiques[j] = float(0)\n",
    "        else:\n",
    "            caracteristiques[j] = float(1)\n",
    "    return caracteristiques\n",
    "\n",
    "# Fonction qui nous donne toutes les caractéristiques d'une annonce nexity à l'aide des fonction précédente \n",
    "def get_nexity(urlpage):\n",
    "    user_agent = {'User-Agent':'Mozilla/5.0 (Windows NT 10.0; Win64; x64; rv:122.0) Gecko/20100101 Firefox/122.0'}\n",
    "    soup = get_page(urlpage)\n",
    "    link = [urlpage]\n",
    "    appart = options_nexity(soup) + link\n",
    "    appart.insert(1, localisation_nexity(soup)[0])\n",
    "    appart.insert(2, localisation_nexity(soup)[1])\n",
    "    appart.insert(5, honoraires_nexity(soup)[0])\n",
    "    appart.insert(8, meuble_nexity(soup)[0])\n",
    "    return appart"
   ]
  },
  {
   "cell_type": "markdown",
   "id": "63047454-5d9b-4b6d-a4d3-2a3720d55243",
   "metadata": {
    "tags": []
   },
   "source": [
    "## IV) LEFIGARO"
   ]
  },
  {
   "cell_type": "code",
   "execution_count": 13,
   "id": "0fe9aa66-1764-43a8-b175-7d6310c92b83",
   "metadata": {},
   "outputs": [],
   "source": [
    "# a) Type\n",
    "def type_lefigaro(soup):\n",
    "    text = soup.find_all('h1')[0].text.lower()\n",
    "    if 'appartement' in text or 'studio' in text or 'location' in text:\n",
    "        typ=['Appartement']\n",
    "    elif 'maison' in text:\n",
    "        typ=['Maison']\n",
    "    return typ\n",
    "\n",
    "# b) localisation : ville et quartier\n",
    "def localisation_lefigaro(soup):\n",
    "    ville = [re.search(r'à (\\w+)', soup.find_all('h1')[0].text.lower()).group(1).capitalize()]\n",
    "    quartiers = [\"meinau\", \"neustadt\", 'poteries', \"esplanade\", \"petite france\", \"cronenbourg\", \"koenigshoffen\", \"halles\", \"neudorf\", \"robertsau\", \"gare\", \"musau\", \"orangerie\", \"krutenau\", \"forêt noire\", 'centre-ville', \"port du rhin\", \"hautepierre\", \"contades\"]\n",
    "    text = soup.find_all(\"p\", class_='truncated-description')[0].text.lower()\n",
    "    quartier = [\"nan\"]\n",
    "    if ville==[\"Strasbourg\"]:\n",
    "        for i in range(len(quartiers)):\n",
    "            if text.find(quartiers[i]) != -1:\n",
    "                quartier = [quartiers[i].capitalize()]\n",
    "    else:    \n",
    "        for i in range(len(quartiers)):\n",
    "                quartier = [ville]\n",
    "    return ville + quartier\n",
    "\n",
    "# c) Loyer et charges\n",
    "def price_lefigaro(soup):\n",
    "    loyer = soup.find_all('span', class_='price')[0].text\n",
    "    loyer = float(re.sub(r'[^\\d.]', '', loyer))\n",
    "    charges = soup.find_all('span', class_='about-price-fees-label')\n",
    "    if (charges == [])==True:\n",
    "        charges = 0\n",
    "    else:\n",
    "        charges = charges[0].text\n",
    "        charges = float(re.search(r'\\d+', charges).group())\n",
    "    if \"CC\" in (soup.find_all('span', class_='price')[0].text):\n",
    "        loyer = loyer - charges\n",
    "    return [loyer, charges]\n",
    "\n",
    "# d) Honoraires\n",
    "def honoraires_lefigaro(soup):\n",
    "    text = soup.find_all('li', class_='item-about-price')\n",
    "    honoraires = [float('nan')]\n",
    "    for i in range(len(text)):\n",
    "        if \"honoraires\" in text[i].text.lower():\n",
    "            if \"non communiqué\" in text[i].text.lower():\n",
    "                honoraires = [float('nan')]\n",
    "            else:\n",
    "                honoraires = [float(re.search(r'\\b\\d+\\b',text[2].text.lower())[0])]\n",
    "    return honoraires\n",
    "\n",
    "# e) Pièces, surface\n",
    "def feature_lefigaro(soup):\n",
    "    text= soup.find_all('span', class_='feature')\n",
    "    for i in range(len(text)):\n",
    "        element = text[i].text.split()\n",
    "        if \"pièces\" in element or 'pièce' in element:\n",
    "            piece = [float(re.match(r'([\\d.]+)', element[0]).group())]\n",
    "        if \"surface\" in element:\n",
    "            surface = [float(re.match(r'([\\d.]+)', element[0]).group())]\n",
    "    return piece + surface\n",
    "\n",
    "# f) Meublé\n",
    "def meuble_lefigaro(soup):\n",
    "    text = soup.find_all(\"p\", class_='truncated-description')[0].text.lower()\n",
    "    if \"meublé\" in text:\n",
    "        meuble = [float(1)]\n",
    "    else:\n",
    "        meuble = [float(0)]\n",
    "    return meuble\n",
    "\n",
    "# g) Caractéristiques : Ascenseur, \"balcon\", \"terrasse\", \"cave\", \"parking\" et \"jardin\"\n",
    "def options_lefigaro(soup):\n",
    "    variables = [\"ascenseur\", \"balcon\", \"terrasse\", \"cave\", \"parking\", \"jardin\"]\n",
    "    caracteristiques = list(np.zeros(len(variables), dtype=float))\n",
    "    text = soup.find_all(\"li\", class_='options')\n",
    "    if text != []:\n",
    "        for i in range(len(text)):\n",
    "            for j in range(len(variables)):\n",
    "                if variables[j] == text[i].text.lower():\n",
    "                    caracteristiques[j] = float(1)\n",
    "    return caracteristiques\n",
    "\n",
    "def get_lefigaro(urlpage):\n",
    "    user_agent = {'User-Agent':'Mozilla/5.0 (Windows NT 10.0; Win64; x64; rv:122.0) Gecko/20100101 Firefox/122.0'}\n",
    "    soup = get_page(urlpage)\n",
    "    link = [urlpage]\n",
    "    appart = type_lefigaro(soup) + localisation_lefigaro(soup) + price_lefigaro(soup) + honoraires_lefigaro(soup) + feature_lefigaro(soup) + meuble_lefigaro(soup) + options_lefigaro(soup) + link\n",
    "    return appart"
   ]
  },
  {
   "cell_type": "markdown",
   "id": "ac667c26-2829-40b3-85a9-f2fb74c953b5",
   "metadata": {},
   "source": [
    "## V) DATA"
   ]
  },
  {
   "cell_type": "code",
   "execution_count": 14,
   "id": "8bf259db-50fb-45ac-82a7-37539b58a473",
   "metadata": {},
   "outputs": [],
   "source": [
    "# Fonction qui reprend toutes les fonctions précédentes pour faire une fonction qui fait tout !\n",
    "def get_appart(site):\n",
    "    links = get_link(site)\n",
    "    var = [\"Type\", \"Ville\", \"Quartier\", \"Loyer\", \"Charges\", \"Honoraires\", \"Pièces\", \"Surface\", \"Meublé\", \"Ascenseur\", \"Balcon\", \"Terrasse\", \"Cave\", \"Parking\", \"Terrain\", \"Liens\"]\n",
    "    data = []\n",
    "    if (site==\"orpi\")==True:\n",
    "        for i in range(len(links)):\n",
    "            info = get_orpi(links[i])\n",
    "            data.append(info)\n",
    "    if (site==\"nexity\")==True:\n",
    "        for i in range(len(links)):\n",
    "            if (links[i].find(\"residence_etudiant\") != -1)==False:\n",
    "                info = get_nexity(links[i])\n",
    "                data.append(info)\n",
    "    if (site==\"lefigaro\")==True:\n",
    "        for i in range(len(links)):\n",
    "            info = get_lefigaro(links[i])\n",
    "            data.append(info)\n",
    "    data = pd.DataFrame(data, columns=var)\n",
    "    return data  \n",
    "\n",
    "def import_data(site):\n",
    "    t = time.time()\n",
    "    if site != \"all\":\n",
    "        dt = get_appart(site)\n",
    "    else:\n",
    "        dt = pd.concat([get_appart(\"orpi\"), get_appart(\"nexity\"), get_appart(\"lefigaro\")], ignore_index=True)\n",
    "    dt = dt.dropna(subset=[\"Loyer\", \"Surface\", 'Charges', 'Pièces', 'Terrain', 'Meublé', 'Ascenseur', 'Balcon', 'Terrasse','Cave','Parking'])\n",
    "    dt = dt.reset_index(drop=True)\n",
    "    n=len(dt)-1\n",
    "    val_double_i = []\n",
    "    val_double_j = []\n",
    "    for i in range(0,n):\n",
    "        for j in range(i+1,n+1):\n",
    "            if (dt.iloc[i, [1,2,4,5,7,8]].tolist() == dt.iloc[j, [1,2,4,5,7,8]].tolist())==True:\n",
    "                val_double_i.append(i)\n",
    "                val_double_j.append(j)\n",
    "    val_double = []\n",
    "    for i in range(len(val_double_i)):\n",
    "        if dt.iloc[val_double_i[i],6] > dt.iloc[val_double_j[i],6]:\n",
    "            val_double.append(val_double_i[i])\n",
    "        elif dt.iloc[val_double_i[i],6] < dt.iloc[val_double_j[i],6] or dt.iloc[val_double_i[i],6] == dt.iloc[val_double_j[i],6]:\n",
    "            val_double.append(val_double_j[i])\n",
    "        elif dt.iloc[val_double_i[i],6] == 'nan' and dt.iloc[val_double_j[i],6] != 'nan':\n",
    "            val_double.append(val_double_i[i])\n",
    "        elif dt.iloc[val_double_i[i],6] != 'nan' and dt.iloc[val_double_j[i],6] == 'nan':\n",
    "            val_double.append(val_double_j[i])\n",
    "        else:\n",
    "            val_double.append(val_double_j[i])   \n",
    "    dt = dt.drop(list(np.unique(val_double)))\n",
    "    dt = dt.reset_index(drop=True)\n",
    "    print((time.time() - t)/60)\n",
    "    return dt"
   ]
  },
  {
   "cell_type": "code",
   "execution_count": 16,
   "id": "0cf3bd01-8158-4fd3-a771-871f585a2eb9",
   "metadata": {},
   "outputs": [
    {
     "name": "stdout",
     "output_type": "stream",
     "text": [
      "3.203515823682149\n"
     ]
    },
    {
     "data": {
      "text/html": [
       "<div>\n",
       "<style scoped>\n",
       "    .dataframe tbody tr th:only-of-type {\n",
       "        vertical-align: middle;\n",
       "    }\n",
       "\n",
       "    .dataframe tbody tr th {\n",
       "        vertical-align: top;\n",
       "    }\n",
       "\n",
       "    .dataframe thead th {\n",
       "        text-align: right;\n",
       "    }\n",
       "</style>\n",
       "<table border=\"1\" class=\"dataframe\">\n",
       "  <thead>\n",
       "    <tr style=\"text-align: right;\">\n",
       "      <th></th>\n",
       "      <th>Type</th>\n",
       "      <th>Ville</th>\n",
       "      <th>Quartier</th>\n",
       "      <th>Loyer</th>\n",
       "      <th>Charges</th>\n",
       "      <th>Honoraires</th>\n",
       "      <th>Pièces</th>\n",
       "      <th>Surface</th>\n",
       "      <th>Meublé</th>\n",
       "      <th>Ascenseur</th>\n",
       "      <th>Balcon</th>\n",
       "      <th>Terrasse</th>\n",
       "      <th>Cave</th>\n",
       "      <th>Parking</th>\n",
       "      <th>Terrain</th>\n",
       "      <th>Liens</th>\n",
       "    </tr>\n",
       "  </thead>\n",
       "  <tbody>\n",
       "    <tr>\n",
       "      <th>0</th>\n",
       "      <td>Appartement</td>\n",
       "      <td>Strasbourg</td>\n",
       "      <td>Neudorf</td>\n",
       "      <td>459.0</td>\n",
       "      <td>50.0</td>\n",
       "      <td>254.0</td>\n",
       "      <td>1.0</td>\n",
       "      <td>19.0</td>\n",
       "      <td>1.0</td>\n",
       "      <td>1.0</td>\n",
       "      <td>0.0</td>\n",
       "      <td>0.0</td>\n",
       "      <td>0.0</td>\n",
       "      <td>0.0</td>\n",
       "      <td>0.0</td>\n",
       "      <td>https://www.orpi.com/annonce-location-appartem...</td>\n",
       "    </tr>\n",
       "    <tr>\n",
       "      <th>1</th>\n",
       "      <td>Appartement</td>\n",
       "      <td>Strasbourg</td>\n",
       "      <td>Forêt noire</td>\n",
       "      <td>585.0</td>\n",
       "      <td>180.0</td>\n",
       "      <td>NaN</td>\n",
       "      <td>2.0</td>\n",
       "      <td>48.0</td>\n",
       "      <td>0.0</td>\n",
       "      <td>1.0</td>\n",
       "      <td>1.0</td>\n",
       "      <td>0.0</td>\n",
       "      <td>1.0</td>\n",
       "      <td>0.0</td>\n",
       "      <td>0.0</td>\n",
       "      <td>https://www.orpi.com/annonce-location-appartem...</td>\n",
       "    </tr>\n",
       "    <tr>\n",
       "      <th>2</th>\n",
       "      <td>Appartement</td>\n",
       "      <td>Strasbourg</td>\n",
       "      <td>Neudorf</td>\n",
       "      <td>870.0</td>\n",
       "      <td>50.0</td>\n",
       "      <td>858.0</td>\n",
       "      <td>3.0</td>\n",
       "      <td>66.0</td>\n",
       "      <td>0.0</td>\n",
       "      <td>0.0</td>\n",
       "      <td>0.0</td>\n",
       "      <td>0.0</td>\n",
       "      <td>1.0</td>\n",
       "      <td>0.0</td>\n",
       "      <td>1.0</td>\n",
       "      <td>https://www.orpi.com/annonce-location-appartem...</td>\n",
       "    </tr>\n",
       "    <tr>\n",
       "      <th>3</th>\n",
       "      <td>Appartement</td>\n",
       "      <td>Strasbourg</td>\n",
       "      <td>Forêt noire</td>\n",
       "      <td>705.0</td>\n",
       "      <td>110.0</td>\n",
       "      <td>806.0</td>\n",
       "      <td>2.0</td>\n",
       "      <td>62.0</td>\n",
       "      <td>0.0</td>\n",
       "      <td>1.0</td>\n",
       "      <td>1.0</td>\n",
       "      <td>0.0</td>\n",
       "      <td>1.0</td>\n",
       "      <td>0.0</td>\n",
       "      <td>0.0</td>\n",
       "      <td>https://www.orpi.com/annonce-location-appartem...</td>\n",
       "    </tr>\n",
       "    <tr>\n",
       "      <th>4</th>\n",
       "      <td>Appartement</td>\n",
       "      <td>Strasbourg</td>\n",
       "      <td>Hautepierre</td>\n",
       "      <td>519.0</td>\n",
       "      <td>115.0</td>\n",
       "      <td>590.0</td>\n",
       "      <td>2.0</td>\n",
       "      <td>45.0</td>\n",
       "      <td>0.0</td>\n",
       "      <td>1.0</td>\n",
       "      <td>0.0</td>\n",
       "      <td>0.0</td>\n",
       "      <td>0.0</td>\n",
       "      <td>0.0</td>\n",
       "      <td>0.0</td>\n",
       "      <td>https://www.orpi.com/annonce-location-appartem...</td>\n",
       "    </tr>\n",
       "    <tr>\n",
       "      <th>...</th>\n",
       "      <td>...</td>\n",
       "      <td>...</td>\n",
       "      <td>...</td>\n",
       "      <td>...</td>\n",
       "      <td>...</td>\n",
       "      <td>...</td>\n",
       "      <td>...</td>\n",
       "      <td>...</td>\n",
       "      <td>...</td>\n",
       "      <td>...</td>\n",
       "      <td>...</td>\n",
       "      <td>...</td>\n",
       "      <td>...</td>\n",
       "      <td>...</td>\n",
       "      <td>...</td>\n",
       "      <td>...</td>\n",
       "    </tr>\n",
       "    <tr>\n",
       "      <th>155</th>\n",
       "      <td>Appartement</td>\n",
       "      <td>Strasbourg</td>\n",
       "      <td>nan</td>\n",
       "      <td>880.0</td>\n",
       "      <td>0.0</td>\n",
       "      <td>NaN</td>\n",
       "      <td>2.0</td>\n",
       "      <td>37.0</td>\n",
       "      <td>0.0</td>\n",
       "      <td>0.0</td>\n",
       "      <td>0.0</td>\n",
       "      <td>0.0</td>\n",
       "      <td>0.0</td>\n",
       "      <td>0.0</td>\n",
       "      <td>0.0</td>\n",
       "      <td>https://immobilier.lefigaro.fr/annonces/annonc...</td>\n",
       "    </tr>\n",
       "    <tr>\n",
       "      <th>156</th>\n",
       "      <td>Appartement</td>\n",
       "      <td>Strasbourg</td>\n",
       "      <td>nan</td>\n",
       "      <td>610.0</td>\n",
       "      <td>0.0</td>\n",
       "      <td>NaN</td>\n",
       "      <td>1.0</td>\n",
       "      <td>20.0</td>\n",
       "      <td>1.0</td>\n",
       "      <td>0.0</td>\n",
       "      <td>0.0</td>\n",
       "      <td>0.0</td>\n",
       "      <td>0.0</td>\n",
       "      <td>0.0</td>\n",
       "      <td>0.0</td>\n",
       "      <td>https://immobilier.lefigaro.fr/annonces/annonc...</td>\n",
       "    </tr>\n",
       "    <tr>\n",
       "      <th>157</th>\n",
       "      <td>Appartement</td>\n",
       "      <td>Strasbourg</td>\n",
       "      <td>nan</td>\n",
       "      <td>850.0</td>\n",
       "      <td>0.0</td>\n",
       "      <td>NaN</td>\n",
       "      <td>2.0</td>\n",
       "      <td>45.0</td>\n",
       "      <td>1.0</td>\n",
       "      <td>0.0</td>\n",
       "      <td>0.0</td>\n",
       "      <td>0.0</td>\n",
       "      <td>0.0</td>\n",
       "      <td>0.0</td>\n",
       "      <td>0.0</td>\n",
       "      <td>https://immobilier.lefigaro.fr/annonces/annonc...</td>\n",
       "    </tr>\n",
       "    <tr>\n",
       "      <th>158</th>\n",
       "      <td>Appartement</td>\n",
       "      <td>Strasbourg</td>\n",
       "      <td>nan</td>\n",
       "      <td>674.0</td>\n",
       "      <td>0.0</td>\n",
       "      <td>NaN</td>\n",
       "      <td>3.0</td>\n",
       "      <td>66.0</td>\n",
       "      <td>0.0</td>\n",
       "      <td>0.0</td>\n",
       "      <td>0.0</td>\n",
       "      <td>0.0</td>\n",
       "      <td>0.0</td>\n",
       "      <td>0.0</td>\n",
       "      <td>0.0</td>\n",
       "      <td>https://immobilier.lefigaro.fr/annonces/annonc...</td>\n",
       "    </tr>\n",
       "    <tr>\n",
       "      <th>159</th>\n",
       "      <td>Appartement</td>\n",
       "      <td>Strasbourg</td>\n",
       "      <td>nan</td>\n",
       "      <td>2480.0</td>\n",
       "      <td>500.0</td>\n",
       "      <td>2.0</td>\n",
       "      <td>7.0</td>\n",
       "      <td>274.0</td>\n",
       "      <td>0.0</td>\n",
       "      <td>0.0</td>\n",
       "      <td>0.0</td>\n",
       "      <td>0.0</td>\n",
       "      <td>1.0</td>\n",
       "      <td>0.0</td>\n",
       "      <td>0.0</td>\n",
       "      <td>https://immobilier.lefigaro.fr/annonces/annonc...</td>\n",
       "    </tr>\n",
       "  </tbody>\n",
       "</table>\n",
       "<p>160 rows × 16 columns</p>\n",
       "</div>"
      ],
      "text/plain": [
       "            Type       Ville     Quartier   Loyer  Charges  Honoraires  \\\n",
       "0    Appartement  Strasbourg      Neudorf   459.0     50.0       254.0   \n",
       "1    Appartement  Strasbourg  Forêt noire   585.0    180.0         NaN   \n",
       "2    Appartement  Strasbourg      Neudorf   870.0     50.0       858.0   \n",
       "3    Appartement  Strasbourg  Forêt noire   705.0    110.0       806.0   \n",
       "4    Appartement  Strasbourg  Hautepierre   519.0    115.0       590.0   \n",
       "..           ...         ...          ...     ...      ...         ...   \n",
       "155  Appartement  Strasbourg          nan   880.0      0.0         NaN   \n",
       "156  Appartement  Strasbourg          nan   610.0      0.0         NaN   \n",
       "157  Appartement  Strasbourg          nan   850.0      0.0         NaN   \n",
       "158  Appartement  Strasbourg          nan   674.0      0.0         NaN   \n",
       "159  Appartement  Strasbourg          nan  2480.0    500.0         2.0   \n",
       "\n",
       "     Pièces  Surface  Meublé  Ascenseur  Balcon  Terrasse  Cave  Parking  \\\n",
       "0       1.0     19.0     1.0        1.0     0.0       0.0   0.0      0.0   \n",
       "1       2.0     48.0     0.0        1.0     1.0       0.0   1.0      0.0   \n",
       "2       3.0     66.0     0.0        0.0     0.0       0.0   1.0      0.0   \n",
       "3       2.0     62.0     0.0        1.0     1.0       0.0   1.0      0.0   \n",
       "4       2.0     45.0     0.0        1.0     0.0       0.0   0.0      0.0   \n",
       "..      ...      ...     ...        ...     ...       ...   ...      ...   \n",
       "155     2.0     37.0     0.0        0.0     0.0       0.0   0.0      0.0   \n",
       "156     1.0     20.0     1.0        0.0     0.0       0.0   0.0      0.0   \n",
       "157     2.0     45.0     1.0        0.0     0.0       0.0   0.0      0.0   \n",
       "158     3.0     66.0     0.0        0.0     0.0       0.0   0.0      0.0   \n",
       "159     7.0    274.0     0.0        0.0     0.0       0.0   1.0      0.0   \n",
       "\n",
       "     Terrain                                              Liens  \n",
       "0        0.0  https://www.orpi.com/annonce-location-appartem...  \n",
       "1        0.0  https://www.orpi.com/annonce-location-appartem...  \n",
       "2        1.0  https://www.orpi.com/annonce-location-appartem...  \n",
       "3        0.0  https://www.orpi.com/annonce-location-appartem...  \n",
       "4        0.0  https://www.orpi.com/annonce-location-appartem...  \n",
       "..       ...                                                ...  \n",
       "155      0.0  https://immobilier.lefigaro.fr/annonces/annonc...  \n",
       "156      0.0  https://immobilier.lefigaro.fr/annonces/annonc...  \n",
       "157      0.0  https://immobilier.lefigaro.fr/annonces/annonc...  \n",
       "158      0.0  https://immobilier.lefigaro.fr/annonces/annonc...  \n",
       "159      0.0  https://immobilier.lefigaro.fr/annonces/annonc...  \n",
       "\n",
       "[160 rows x 16 columns]"
      ]
     },
     "execution_count": 16,
     "metadata": {},
     "output_type": "execute_result"
    }
   ],
   "source": [
    "dt = import_data(\"all\")\n",
    "dt"
   ]
  },
  {
   "cell_type": "markdown",
   "id": "b10765b1-06e2-496c-82b2-a242494c1a0d",
   "metadata": {},
   "source": [
    "## VI) KNN"
   ]
  },
  {
   "cell_type": "code",
   "execution_count": 123,
   "id": "64139367-9b49-4ae4-b4b7-7bfb63e928d0",
   "metadata": {},
   "outputs": [],
   "source": [
    "def get_estimation():\n",
    "    \n",
    "    Information = {\"Surface\" : \"\",      # En m²\n",
    "                  \"Charges\": \"\",       # En €\n",
    "                  \"Pièces\" : \"\",        # En nombre\n",
    "                  \"Terrain\" : \"\",       # En m²\n",
    "                  \"Meublé\" : \"\",    # \"Oui\" ou \"Non\"\n",
    "                  \"Ascenseur\" : \"\", # \"Oui\" ou \"Non\"\n",
    "                  \"Balcon\" : \"\",    # \"Oui\" ou \"Non\"\n",
    "                  \"Terrasse\" : \"\",  # \"Oui\" ou \"Non\"\n",
    "                  \"Cave\" : \"\",      # \"Oui\" ou \"Non\"\n",
    "                  \"Parking\" : \"\",   # \"Oui\" ou \"Non\"\n",
    "                  }\n",
    "    key = list(Information.keys())\n",
    "    for i in range(len(Information)):\n",
    "        print(key[i], \":\")\n",
    "        element = input().lower()\n",
    "        if key[i] == \"Loyer\" or key[i] == \"Surface\" or key[i] ==\"Charges\" or key[i] ==\"Pièces\":\n",
    "            while element.isnumeric() == False:\n",
    "                if element.isnumeric() == False:\n",
    "                    print(\"Erreur : Veuillez insérer une valeur numérique\")\n",
    "                    element = input()\n",
    "            element = float(element)\n",
    "        else:\n",
    "            while element != \"oui\" and element != \"non\":\n",
    "                if element != \"oui\" and element != \"non\":\n",
    "                    print(\"Erreur : Veuillez indiquer si vous souhaitez cette caractéristique ou non\\nRéponses acceptées : Oui ou Non\")\n",
    "                    element = input().lower()\n",
    "            element = element.capitalize()\n",
    "        Information[list(Information.keys())[i]]=element\n",
    "    \n",
    "    a=dt[[\"Surface\", 'Charges', 'Pièces', 'Terrain', 'Meublé', 'Ascenseur', 'Balcon', 'Terrasse','Cave', 'Parking']]\n",
    "    b=dt[\"Loyer\"]\n",
    "    \n",
    "    key = list(Information.keys())\n",
    "    \n",
    "    X = []\n",
    "    for i in range(len(key)):\n",
    "        if (Information.get(key[i])==\"Oui\")==True:\n",
    "            ad = 1\n",
    "        elif (Information.get(key[i])==\"Non\")==True:\n",
    "            ad = 0\n",
    "        else :\n",
    "            ad = Information.get(key[i])\n",
    "        X.append(ad)\n",
    "    model = KNeighborsClassifier(n_neighbors=4)\n",
    "    model.fit(a,b)\n",
    "    distances, indices = model.kneighbors([X])\n",
    "    loy = []\n",
    "    for i in range(len(indices[0])):    \n",
    "        obs = dt.iloc[indices[0][i]][\"Loyer\"]\n",
    "        loy.append(obs)\n",
    "    loy = np.array(loy)\n",
    "    z = distances.sum()- distances[0]\n",
    "    sum_z = z.sum()\n",
    "    pond = z/sum_z\n",
    "    estimation = (loy*pond).sum()\n",
    "    # Intervalle de confiance\n",
    "    lower_bound = (loy*pond).sum() -  norm.ppf((1.95) / 2) * (np.std(loy) / np.sqrt(len(loy)))\n",
    "    upper_bound = (loy*pond).sum() + norm.ppf((1.95) / 2) * (np.std(loy) / np.sqrt(len(loy)))\n",
    "    IC = [int(lower_bound.round()), int(upper_bound.round())]\n",
    "    print(\"Estimation du prix : \", estimation.round(), \"€\")\n",
    "    print(\"Interval de confiance du prix : \", IC)\n",
    "    \n",
    "def get_annonce():\n",
    "    Information = {\"Loyer\" : \"\",      # En €\n",
    "              \"Surface\" : \"\",      # En m²\n",
    "              \"Charges\": \"\",       # En €\n",
    "              \"Pièces\" : \"\",        # En nombre\n",
    "              \"Terrain\" : \"\",       # En m²\n",
    "              \"Meublé\" : \"\",    # \"Oui\" ou \"Non\"\n",
    "              \"Ascenseur\" : \"\", # \"Oui\" ou \"Non\"\n",
    "              \"Balcon\" : \"\",    # \"Oui\" ou \"Non\"\n",
    "              \"Terrasse\" : \"\",  # \"Oui\" ou \"Non\"\n",
    "              \"Cave\" : \"\",      # \"Oui\" ou \"Non\"\n",
    "              \"Parking\" : \"\",   # \"Oui\" ou \"Non\"\n",
    "              }\n",
    "    key = list(Information.keys())\n",
    "    for i in range(len(Information)):\n",
    "        print(key[i], \":\")\n",
    "        element = input().lower()\n",
    "        if key[i] == \"Loyer\" or key[i] == \"Surface\" or key[i] ==\"Charges\" or key[i] ==\"Pièces\":\n",
    "            while element.isnumeric() == False:\n",
    "                if element.isnumeric() == False:\n",
    "                    print(\"Erreur : Veuillez insérer une valeur numérique\")\n",
    "                    element = input()\n",
    "            element = float(element)\n",
    "        else:\n",
    "            while element != \"oui\" and element != \"non\":\n",
    "                if element != \"oui\" and element != \"non\":\n",
    "                    print(\"Erreur : Veuillez indiquer si vous souhaitez cette caractéristique ou non\\nRéponses acceptées : Oui ou Non\")\n",
    "                    element = input().lower()\n",
    "            element = element.capitalize()\n",
    "        Information[list(Information.keys())[i]]=element\n",
    "\n",
    "    a=dt[[\"Loyer\", \"Surface\", 'Charges', 'Pièces', 'Terrain', 'Meublé', 'Ascenseur', 'Balcon', 'Terrasse','Cave','Parking']]\n",
    "    b=dt[\"Liens\"]\n",
    "    key = list(Information.keys())\n",
    "    X = []\n",
    "    for i in range(len(key)):\n",
    "        if (Information.get(key[i])==\"Oui\")==True:\n",
    "            ad = 1\n",
    "        elif (Information.get(key[i])==\"Non\")==True:\n",
    "            ad = 0\n",
    "        else :\n",
    "            ad = Information.get(key[i])\n",
    "        X.append(ad)\n",
    "    model = KNeighborsClassifier(n_neighbors=4)\n",
    "    model.fit(a,b)\n",
    "    distances, indices = model.kneighbors([X])\n",
    "    la = dt.iloc[indices[0]][[\"Liens\", \"Loyer\", \"Surface\", \"Pièces\", \"Quartier\"]]\n",
    "    \n",
    "\n",
    "\n",
    "    for i in range(len(la)):\n",
    "        if la.iloc[i][4]==\"nan\":\n",
    "            quart = \"Non renseigné\"\n",
    "        else:\n",
    "            quart = la.iloc[i][4]\n",
    "        print(\"Annonce\",i+1,\":\")\n",
    "        print(\"Quartier : \", quart)\n",
    "        print(\"Loyer : \", int(la.iloc[i][1]), \"€\\n\" \"Surface : \", la.iloc[i][2], \"m2\",\"\\n\" \"Pièces : \", int(la.iloc[i][3]),\"\\n\" \"Lien : \", la.iloc[i][0])\n",
    "        print(\"\\n\")"
   ]
  },
  {
   "cell_type": "code",
   "execution_count": 113,
   "id": "d84e8bbd-b926-4ea4-8725-cdbdcde13cb9",
   "metadata": {},
   "outputs": [
    {
     "name": "stdout",
     "output_type": "stream",
     "text": [
      "Surface :\n"
     ]
    },
    {
     "name": "stdin",
     "output_type": "stream",
     "text": [
      " 50\n"
     ]
    },
    {
     "name": "stdout",
     "output_type": "stream",
     "text": [
      "Charges :\n"
     ]
    },
    {
     "name": "stdin",
     "output_type": "stream",
     "text": [
      " 56\n"
     ]
    },
    {
     "name": "stdout",
     "output_type": "stream",
     "text": [
      "Pièces :\n"
     ]
    },
    {
     "name": "stdin",
     "output_type": "stream",
     "text": [
      " 3\n"
     ]
    },
    {
     "name": "stdout",
     "output_type": "stream",
     "text": [
      "Terrain :\n"
     ]
    },
    {
     "name": "stdin",
     "output_type": "stream",
     "text": [
      " non\n"
     ]
    },
    {
     "name": "stdout",
     "output_type": "stream",
     "text": [
      "Meublé :\n"
     ]
    },
    {
     "name": "stdin",
     "output_type": "stream",
     "text": [
      " non\n"
     ]
    },
    {
     "name": "stdout",
     "output_type": "stream",
     "text": [
      "Ascenseur :\n"
     ]
    },
    {
     "name": "stdin",
     "output_type": "stream",
     "text": [
      " non\n"
     ]
    },
    {
     "name": "stdout",
     "output_type": "stream",
     "text": [
      "Balcon :\n"
     ]
    },
    {
     "name": "stdin",
     "output_type": "stream",
     "text": [
      " non\n"
     ]
    },
    {
     "name": "stdout",
     "output_type": "stream",
     "text": [
      "Terrasse :\n"
     ]
    },
    {
     "name": "stdin",
     "output_type": "stream",
     "text": [
      " non\n"
     ]
    },
    {
     "name": "stdout",
     "output_type": "stream",
     "text": [
      "Cave :\n"
     ]
    },
    {
     "name": "stdin",
     "output_type": "stream",
     "text": [
      " non\n"
     ]
    },
    {
     "name": "stdout",
     "output_type": "stream",
     "text": [
      "Parking :\n"
     ]
    },
    {
     "name": "stdin",
     "output_type": "stream",
     "text": [
      " non\n"
     ]
    },
    {
     "name": "stdout",
     "output_type": "stream",
     "text": [
      "Estimation du prix :  687.0 €\n",
      "Interval de confiance du prix :  [588, 785]\n"
     ]
    },
    {
     "name": "stderr",
     "output_type": "stream",
     "text": [
      "C:\\Users\\busch\\anaconda3\\lib\\site-packages\\sklearn\\base.py:450: UserWarning: X does not have valid feature names, but KNeighborsClassifier was fitted with feature names\n",
      "  warnings.warn(\n"
     ]
    }
   ],
   "source": [
    "get_estimation()"
   ]
  },
  {
   "cell_type": "code",
   "execution_count": 119,
   "id": "a267acdc-c7f9-48c0-957b-9a5ac4fdb072",
   "metadata": {},
   "outputs": [
    {
     "name": "stdout",
     "output_type": "stream",
     "text": [
      "Loyer :\n"
     ]
    },
    {
     "name": "stdin",
     "output_type": "stream",
     "text": [
      " 715\n"
     ]
    },
    {
     "name": "stdout",
     "output_type": "stream",
     "text": [
      "Surface :\n"
     ]
    },
    {
     "name": "stdin",
     "output_type": "stream",
     "text": [
      " 60\n"
     ]
    },
    {
     "name": "stdout",
     "output_type": "stream",
     "text": [
      "Charges :\n"
     ]
    },
    {
     "name": "stdin",
     "output_type": "stream",
     "text": [
      " 75\n"
     ]
    },
    {
     "name": "stdout",
     "output_type": "stream",
     "text": [
      "Pièces :\n"
     ]
    },
    {
     "name": "stdin",
     "output_type": "stream",
     "text": [
      " 3\n"
     ]
    },
    {
     "name": "stdout",
     "output_type": "stream",
     "text": [
      "Terrain :\n"
     ]
    },
    {
     "name": "stdin",
     "output_type": "stream",
     "text": [
      " non\n"
     ]
    },
    {
     "name": "stdout",
     "output_type": "stream",
     "text": [
      "Meublé :\n"
     ]
    },
    {
     "name": "stdin",
     "output_type": "stream",
     "text": [
      " non\n"
     ]
    },
    {
     "name": "stdout",
     "output_type": "stream",
     "text": [
      "Ascenseur :\n"
     ]
    },
    {
     "name": "stdin",
     "output_type": "stream",
     "text": [
      " non\n"
     ]
    },
    {
     "name": "stdout",
     "output_type": "stream",
     "text": [
      "Balcon :\n"
     ]
    },
    {
     "name": "stdin",
     "output_type": "stream",
     "text": [
      " non\n"
     ]
    },
    {
     "name": "stdout",
     "output_type": "stream",
     "text": [
      "Terrasse :\n"
     ]
    },
    {
     "name": "stdin",
     "output_type": "stream",
     "text": [
      " non\n"
     ]
    },
    {
     "name": "stdout",
     "output_type": "stream",
     "text": [
      "Cave :\n"
     ]
    },
    {
     "name": "stdin",
     "output_type": "stream",
     "text": [
      " oui\n"
     ]
    },
    {
     "name": "stdout",
     "output_type": "stream",
     "text": [
      "Parking :\n"
     ]
    },
    {
     "name": "stdin",
     "output_type": "stream",
     "text": [
      " oui\n"
     ]
    },
    {
     "name": "stdout",
     "output_type": "stream",
     "text": [
      "Annonce 1 :\n",
      "Quartier :  Neudorf\n",
      "Loyer :  730 €\n",
      "Surface :  60.0 m2 \n",
      "Pièces :  3 \n",
      "Lien :  https://www.orpi.com/annonce-location-appartement-t3-strasbourg-67100-49c14639-5029-4f13-aa2a-97b41bc5e317/\n",
      "\n",
      "\n",
      "Annonce 2 :\n",
      "Quartier :  Forêt noire\n",
      "Loyer :  705 €\n",
      "Surface :  62.0 m2 \n",
      "Pièces :  2 \n",
      "Lien :  https://www.orpi.com/annonce-location-appartement-t2-strasbourg-67000-3d530103-346f-49a7-a7f2-a935c36d33a4/\n",
      "\n",
      "\n",
      "Annonce 3 :\n",
      "Quartier :  Non renseigné\n",
      "Loyer :  700 €\n",
      "Surface :  31.0 m2 \n",
      "Pièces :  1 \n",
      "Lien :  https://immobilier.lefigaro.fr/annonces/annonce-67043214.html\n",
      "\n",
      "\n",
      "Annonce 4 :\n",
      "Quartier :  Ostwald\n",
      "Loyer :  745 €\n",
      "Surface :  57.0 m2 \n",
      "Pièces :  2 \n",
      "Lien :  https://www.nexity.fr/location/FL0798962\n",
      "\n",
      "\n"
     ]
    },
    {
     "name": "stderr",
     "output_type": "stream",
     "text": [
      "C:\\Users\\busch\\anaconda3\\lib\\site-packages\\sklearn\\base.py:450: UserWarning: X does not have valid feature names, but KNeighborsClassifier was fitted with feature names\n",
      "  warnings.warn(\n"
     ]
    }
   ],
   "source": [
    "get_annonce()"
   ]
  }
 ],
 "metadata": {
  "kernelspec": {
   "display_name": "Python 3 (ipykernel)",
   "language": "python",
   "name": "python3"
  },
  "language_info": {
   "codemirror_mode": {
    "name": "ipython",
    "version": 3
   },
   "file_extension": ".py",
   "mimetype": "text/x-python",
   "name": "python",
   "nbconvert_exporter": "python",
   "pygments_lexer": "ipython3",
   "version": "3.9.12"
  }
 },
 "nbformat": 4,
 "nbformat_minor": 5
}
